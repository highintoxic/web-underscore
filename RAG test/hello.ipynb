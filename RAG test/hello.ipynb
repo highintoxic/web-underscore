{
 "cells": [
  {
   "cell_type": "code",
   "execution_count": 12,
   "metadata": {},
   "outputs": [],
   "source": [
    "import langchain "
   ]
  },
  {
   "cell_type": "code",
   "execution_count": 13,
   "metadata": {},
   "outputs": [],
   "source": [
    "import os\n",
    "os.environ[\"LANGCHAIN_TRACING_V2\"]=\"true\"\n",
    "os.environ[\"LANGSMITH_ENDPOINT\"]=\"https://api.smith.langchain.com\"\n",
    "os.environ[\"LANGCHAIN_API_KEY\"]=\"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\"\n",
    "os.environ[\"LANGCHAIN_PROJECT\"]=\"RAG-project\"\n"
   ]
  },
  {
   "cell_type": "code",
   "execution_count": 14,
   "metadata": {},
   "outputs": [],
   "source": [
    "from langsmith import Client\n",
    "client=Client()"
   ]
  },
  {
   "cell_type": "code",
   "execution_count": 15,
   "metadata": {},
   "outputs": [],
   "source": [
    "#CALL LLM\n",
    "from langchain_ollama import OllamaLLM\n",
    "llm=OllamaLLM(model=\"llama3\")\n",
    "#llm_response=llm.invoke(\"Tell me a joke\")\n",
    "#llm_response\n"
   ]
  },
  {
   "cell_type": "code",
   "execution_count": 16,
   "metadata": {},
   "outputs": [],
   "source": [
    "#parsing output "
   ]
  },
  {
   "cell_type": "code",
   "execution_count": 17,
   "metadata": {},
   "outputs": [],
   "source": [
    "#simple chain"
   ]
  },
  {
   "cell_type": "code",
   "execution_count": 18,
   "metadata": {},
   "outputs": [],
   "source": [
    "#structured output"
   ]
  },
  {
   "cell_type": "code",
   "execution_count": 19,
   "metadata": {},
   "outputs": [],
   "source": [
    "#prompt template\n",
    "\n",
    "from langchain_core.prompts import ChatPromptTemplate\n",
    "from langchain_core.output_parsers import StrOutputParser \n",
    "\n",
    "#Define the prompt \n",
    "prompt=ChatPromptTemplate.from_template(\"Tell me a joke about {topic}\") # string with placeholder\n",
    "#Initialize the LLM\n",
    "llm=OllamaLLM(model=\"llama3\")\n",
    "#Define the output parser\n",
    "output_parser=StrOutputParser()\n",
    "#compose the chain\n",
    "chain=prompt | llm | output_parser\n",
    "#Use the chain\n",
    "#result=chain.invoke({\"topic\":\"programming\"})\n",
    "#print(result)"
   ]
  },
  {
   "cell_type": "code",
   "execution_count": 20,
   "metadata": {},
   "outputs": [
    {
     "data": {
      "text/plain": [
       "\"Programming! It's like baking a cake, but instead of flour and sugar, you use code and caffeine!\\n\\nBut seriously, programming is the art of creating instructions that computers can understand. Think of it like writing a recipe for your computer to follow. And just like how you need to have the right ingredients in the right order to make a delicious cake, you need to have the right code in the right order to create a program!\\n\\nSpeaking of recipes, here's one: Why did the programmer quit his job? Because he didn't get arrays! (get it?)\\n\\nSo, if you're interested in learning more about programming, I'd be happy to help you start coding your own recipe book... er, programs!\""
      ]
     },
     "execution_count": 20,
     "metadata": {},
     "output_type": "execute_result"
    }
   ],
   "source": [
    "from langchain_core.output_parsers import StrOutputParser\n",
    "from langchain_core.messages import HumanMessage,SystemMessage\n",
    "\n",
    "system_message=SystemMessage(content=\"You are a helpful assistant that tells jokes.\")\n",
    "human_message=HumanMessage(content=\"Tell me about programming\")\n",
    "llm.invoke([system_message,human_message])"
   ]
  },
  {
   "cell_type": "code",
   "execution_count": 21,
   "metadata": {},
   "outputs": [
    {
     "data": {
      "text/plain": [
       "ChatPromptValue(messages=[SystemMessage(content='you are a helpful assistant that tells jokes.', additional_kwargs={}, response_metadata={}), HumanMessage(content='tell me aboutprogramming', additional_kwargs={}, response_metadata={})])"
      ]
     },
     "execution_count": 21,
     "metadata": {},
     "output_type": "execute_result"
    }
   ],
   "source": [
    "from langchain_core.prompts import ChatPromptTemplate\n",
    "from langchain_core.output_parsers import StrOutputParser\n",
    "template= ChatPromptTemplate([\n",
    "    (\"system\",\"you are a helpful assistant that tells jokes.\"),\n",
    "    (\"human\",\"tell me about{topic}\")\n",
    "])\n",
    "prompt_value=template.invoke(\n",
    "    {\n",
    "        \"topic\":\"programming\"\n",
    "    }\n",
    ")\n",
    "prompt_value\n"
   ]
  },
  {
   "cell_type": "code",
   "execution_count": 22,
   "metadata": {},
   "outputs": [],
   "source": [
    "#llm.invoke(prompt_value)"
   ]
  },
  {
   "cell_type": "code",
   "execution_count": 23,
   "metadata": {},
   "outputs": [
    {
     "name": "stdout",
     "output_type": "stream",
     "text": [
      "4\n",
      "Split the document into 17 chunks\n"
     ]
    }
   ],
   "source": [
    "from langchain.document_loaders import PyPDFLoader, Docx2txtLoader\n",
    "from langchain_text_splitters import RecursiveCharacterTextSplitter\n",
    "from langchain.embeddings import HuggingFaceEmbeddings\n",
    "from typing import List\n",
    "from langchain_core.documents import Document\n",
    "\n",
    "text_splitter=RecursiveCharacterTextSplitter(\n",
    "    chunk_size=1000,\n",
    "    chunk_overlap=400,\n",
    "    length_function=len\n",
    ")\n",
    "pdf_loader=PyPDFLoader(\"./documents/Ayurvedic Dermatology Therapeutic Strategies.pdf\")\n",
    "documents=pdf_loader.load()\n",
    "print(len(documents))\n",
    "splits=text_splitter.split_documents(documents)\n",
    "print(f\"Split the document into {len(splits) } chunks\")\n"
   ]
  },
  {
   "cell_type": "code",
   "execution_count": 24,
   "metadata": {},
   "outputs": [
    {
     "data": {
      "text/plain": [
       "Document(metadata={'source': './documents/Ayurvedic Dermatology Therapeutic Strategies.pdf', 'page': 0, 'page_label': '1'}, page_content=' \\nInternational Journal for Multidisciplinary Research (IJFMR) \\n \\nE-ISSN: 2582-2160   ●   Website: www.ijfmr.com       ●   Email: editor@ijfmr.com \\n \\nIJFMR23057259 Volume 5, Issue 5, September-October 2023 1 \\n \\nAyurvedic Dermatology: Therapeutic Strategies \\nfor Skin Disease Management \\n \\nDr.Bhupendra Parihar1, Dr.Pravanjan Acharya2, Dr.Vivek Shrivastava3 \\n \\n1M.D. Scholar, Department of Samhita Siddhant \\n2M.D, Ph.D, H.O.D and Professor, Department of Samhita Siddhant , Govt. Ayurveda College And \\nHospital , Rewa  (M.P) \\n3M.D, Assistant Professor, Department of Samhita Siddhant, Govt. Ayurveda College and Hospital \\nRewa (M.P) \\n \\nABSTRACT  \\nHuman skin, the outer layer of the body, is the largest organ in the body. It is also the first line of defense. \\nAccording to Ayurveda, the skin is one of the most important sensory organs. Ayurveda has its own unique \\nprinciples for diagnosing and treating various skin diseases under the name Ku ṣṭha. Taking into account \\nthe prevalence of various diseases, about 20% of the total number of patients visiting a doctor worldwide \\nsuffer from skin diseases, including cosmetic problems, every year. Skin diseases are a common condition \\nthat affects people of all ages, from newbor ns to the elderly, and causes numerous damages. In addition, \\npeople with skin diseases suffer from social stigma. \\n \\nKEYWORDS:   Kustha, Prevalence, Cosmetic, Ayurveda. \\n \\nINTRODUCTION \\nSkin has always enjoyed special importance due to the aesthetic value that society places on skin tone and \\nbeauty. Ayurveda places special emphasis on ahara (diet) and vihara (lifestyle) to maintain health and \\nprevent disease .In the recent past, the connection between diet and skin diseases has been well established \\nin modern medi cine. In Ayurvedic literature, skin diseases are described primarily in terms of  Kushta, \\nwhose literary meaning means “one who causes disfigurement.” The Ayurvedic medical system describes \\na wide spectrum of etiological factors of dermatological diseases.  Etiological factors include physical, \\nphysiological, hereditary, psychological, psychosocial and papkarma factors (sinful \\nactivities/psychosocial stress and related psychological factors are mainly responsible for the \\nmanifestation and/or aggravation of many dermatological diseases), etc. \\nThe incidence of skin diseases is increasing due to the following factors: \\n⮚  Unappropriate daily diet and lifestyle; Eating intolerable and unhealthy foods; Eating before the \\nprevious meal has been digested; take milk with meat, fish (aquatic animals); bathe immediately after \\nsunbathing or after physical activity), etc. \\n⮚ Excessive and inappropriate use of chemical products, cosmetics, soaps, shampoos, deodorants, etc. \\n \\n \\n \\n ')"
      ]
     },
     "execution_count": 24,
     "metadata": {},
     "output_type": "execute_result"
    }
   ],
   "source": [
    "documents[0]"
   ]
  },
  {
   "cell_type": "code",
   "execution_count": 25,
   "metadata": {},
   "outputs": [
    {
     "data": {
      "text/plain": [
       "Document(metadata={'source': './documents/Ayurvedic Dermatology Therapeutic Strategies.pdf', 'page': 0, 'page_label': '1'}, page_content='International Journal for Multidisciplinary Research (IJFMR) \\n \\nE-ISSN: 2582-2160   ●   Website: www.ijfmr.com       ●   Email: editor@ijfmr.com \\n \\nIJFMR23057259 Volume 5, Issue 5, September-October 2023 1 \\n \\nAyurvedic Dermatology: Therapeutic Strategies \\nfor Skin Disease Management \\n \\nDr.Bhupendra Parihar1, Dr.Pravanjan Acharya2, Dr.Vivek Shrivastava3 \\n \\n1M.D. Scholar, Department of Samhita Siddhant \\n2M.D, Ph.D, H.O.D and Professor, Department of Samhita Siddhant , Govt. Ayurveda College And \\nHospital , Rewa  (M.P) \\n3M.D, Assistant Professor, Department of Samhita Siddhant, Govt. Ayurveda College and Hospital \\nRewa (M.P) \\n \\nABSTRACT  \\nHuman skin, the outer layer of the body, is the largest organ in the body. It is also the first line of defense. \\nAccording to Ayurveda, the skin is one of the most important sensory organs. Ayurveda has its own unique \\nprinciples for diagnosing and treating various skin diseases under the name Ku ṣṭha. Taking into account')"
      ]
     },
     "execution_count": 25,
     "metadata": {},
     "output_type": "execute_result"
    }
   ],
   "source": [
    "splits[0]"
   ]
  },
  {
   "cell_type": "code",
   "execution_count": 26,
   "metadata": {},
   "outputs": [
    {
     "name": "stdout",
     "output_type": "stream",
     "text": [
      "Loaded 20 documents from the folder\n",
      "splits documents into 138 chunks\n"
     ]
    }
   ],
   "source": [
    "#Function to load documents from a folder\n",
    "def load_documents(folder_path:str)->List[Document]:\n",
    "    documents=[]\n",
    "    for filename in os.listdir(folder_path):\n",
    "        file_path=os.path.join(folder_path,filename)\n",
    "        if filename.endswith('.pdf'):\n",
    "            loader=PyPDFLoader(file_path)\n",
    "        elif filename.endswith('.docx'):\n",
    "            loader=Docx2txtLoader(file_path)\n",
    "        else:\n",
    "            print(f\"Unsupported file type: {filename}\")\n",
    "            continue\n",
    "        documents.extend(loader.load())\n",
    "    return documents\n",
    "\n",
    "#Load documents from a folder\n",
    "folder_path=\"./documents\"\n",
    "documents=load_documents(folder_path)\n",
    "print(f\"Loaded {len(documents)} documents from the folder\")\n",
    "splits=text_splitter.split_documents(documents)\n",
    "print(f\"splits documents into {len(splits)} chunks\")"
   ]
  },
  {
   "cell_type": "code",
   "execution_count": 27,
   "metadata": {},
   "outputs": [
    {
     "name": "stderr",
     "output_type": "stream",
     "text": [
      "C:\\Users\\Vidhi\\AppData\\Local\\Temp\\ipykernel_17072\\154255307.py:2: LangChainDeprecationWarning: The class `HuggingFaceEmbeddings` was deprecated in LangChain 0.2.2 and will be removed in 1.0. An updated version of the class exists in the :class:`~langchain-huggingface package and should be used instead. To use it run `pip install -U :class:`~langchain-huggingface` and import as `from :class:`~langchain_huggingface import HuggingFaceEmbeddings``.\n",
      "  embedding_function = HuggingFaceEmbeddings(model_name=\"all-MiniLM-L6-v2\")\n",
      "c:\\Users\\Vidhi\\Desktop\\RAG test\\env\\Lib\\site-packages\\tqdm\\auto.py:21: TqdmWarning: IProgress not found. Please update jupyter and ipywidgets. See https://ipywidgets.readthedocs.io/en/stable/user_install.html\n",
      "  from .autonotebook import tqdm as notebook_tqdm\n"
     ]
    },
    {
     "data": {
      "text/plain": [
       "[-0.010292882099747658,\n",
       " 0.009824150241911411,\n",
       " -0.01196305826306343,\n",
       " 0.045850496739149094,\n",
       " 0.034808434545993805,\n",
       " 0.03787285089492798,\n",
       " 0.0007567503489553928,\n",
       " 0.07701867818832397,\n",
       " 0.005133001133799553,\n",
       " 0.04649583250284195,\n",
       " 0.07154428958892822,\n",
       " -0.02949429675936699,\n",
       " -0.006712678819894791,\n",
       " 0.07181013375520706,\n",
       " 0.03831636905670166,\n",
       " -0.016130225732922554,\n",
       " 0.017216026782989502,\n",
       " -0.030118396505713463,\n",
       " 0.0025587868876755238,\n",
       " -0.053622130304574966,\n",
       " -0.04071718454360962,\n",
       " 0.04429784044623375,\n",
       " 0.002426828257739544,\n",
       " -0.08726373314857483,\n",
       " -0.04836170747876167,\n",
       " -0.08122863620519638,\n",
       " -0.005389536265283823,\n",
       " -0.005218025762587786,\n",
       " -0.03237287700176239,\n",
       " -0.08951034396886826,\n",
       " 0.009979157708585262,\n",
       " -0.028474414721131325,\n",
       " 0.012854800559580326,\n",
       " -0.01571258157491684,\n",
       " -0.14818677306175232,\n",
       " 0.029052039608359337,\n",
       " -0.07276295125484467,\n",
       " -0.009471915662288666,\n",
       " 0.030162619426846504,\n",
       " 0.029259417206048965,\n",
       " -0.0694456398487091,\n",
       " 0.025118818506598473,\n",
       " -0.05138091370463371,\n",
       " -0.04274111986160278,\n",
       " 0.11042024940252304,\n",
       " -0.018405210226774216,\n",
       " -0.02287166193127632,\n",
       " 0.031209349632263184,\n",
       " -0.010667910799384117,\n",
       " 0.03416668623685837,\n",
       " -0.05843155458569527,\n",
       " 0.03184213861823082,\n",
       " 0.01269242912530899,\n",
       " 0.09568609297275543,\n",
       " -0.020864170044660568,\n",
       " -0.022092774510383606,\n",
       " -0.04833025485277176,\n",
       " -0.04783673584461212,\n",
       " -0.09757619351148605,\n",
       " 0.020533520728349686,\n",
       " -0.03240494057536125,\n",
       " -0.05818754434585571,\n",
       " 0.05497942492365837,\n",
       " -0.059609293937683105,\n",
       " -0.012249249964952469,\n",
       " -0.10735946148633957,\n",
       " 0.09470849484205246,\n",
       " -0.060949988663196564,\n",
       " -0.01660620979964733,\n",
       " -0.005732497200369835,\n",
       " -0.024291586130857468,\n",
       " -0.028636155650019646,\n",
       " 0.05770408734679222,\n",
       " 0.05782318115234375,\n",
       " -0.010060039348900318,\n",
       " 0.016271347180008888,\n",
       " -0.08798178285360336,\n",
       " 0.03351132571697235,\n",
       " -0.05320671945810318,\n",
       " 0.019474362954497337,\n",
       " 0.053726114332675934,\n",
       " 0.08083917200565338,\n",
       " 0.050359390676021576,\n",
       " 0.07141854614019394,\n",
       " -0.0712369978427887,\n",
       " 0.027083484455943108,\n",
       " -0.026177359744906425,\n",
       " 0.014676427468657494,\n",
       " -0.11238955706357956,\n",
       " 0.05513009801506996,\n",
       " 0.07280845940113068,\n",
       " 0.07379727065563202,\n",
       " -0.06305243819952011,\n",
       " 0.05496372655034065,\n",
       " 0.044175244867801666,\n",
       " 0.026077572256326675,\n",
       " -0.02210497111082077,\n",
       " 0.028807258233428,\n",
       " -0.032288916409015656,\n",
       " -0.05318475514650345,\n",
       " -0.05997845157980919,\n",
       " -0.12683285772800446,\n",
       " -0.09174811840057373,\n",
       " -0.018898604437708855,\n",
       " -0.008619727566838264,\n",
       " -0.05725124478340149,\n",
       " -0.051440391689538956,\n",
       " -0.10401612520217896,\n",
       " 0.05620457977056503,\n",
       " -0.012922026216983795,\n",
       " 0.09794219583272934,\n",
       " -0.008878040127456188,\n",
       " -0.09921538829803467,\n",
       " -0.008356238715350628,\n",
       " 0.010493645444512367,\n",
       " -0.019729526713490486,\n",
       " 0.07000015676021576,\n",
       " 0.06243056803941727,\n",
       " 0.03421924635767937,\n",
       " -0.024448398500680923,\n",
       " -0.009193885140120983,\n",
       " -0.014313469640910625,\n",
       " 0.046473290771245956,\n",
       " -0.03672591596841812,\n",
       " 0.014439091086387634,\n",
       " -0.012278717011213303,\n",
       " 0.05789830908179283,\n",
       " 5.013722178547067e-33,\n",
       " -0.03362927958369255,\n",
       " 0.041056450456380844,\n",
       " 0.017796093598008156,\n",
       " 0.006020889151841402,\n",
       " -0.04201710224151611,\n",
       " 0.02639847993850708,\n",
       " -0.01590283215045929,\n",
       " -0.0074292938224971294,\n",
       " 0.028485435992479324,\n",
       " -0.028980685397982597,\n",
       " -0.12441100180149078,\n",
       " -0.02071726694703102,\n",
       " -0.023937024176120758,\n",
       " 0.03928360342979431,\n",
       " -0.022987226024270058,\n",
       " 0.016367722302675247,\n",
       " -0.011541553772985935,\n",
       " -0.04440216347575188,\n",
       " -0.02146374061703682,\n",
       " -0.07126545906066895,\n",
       " 0.027042092755436897,\n",
       " 0.03305809944868088,\n",
       " -0.026679202914237976,\n",
       " -0.001612346270121634,\n",
       " -0.03376781567931175,\n",
       " 0.030213214457035065,\n",
       " 0.034962378442287445,\n",
       " -0.03634781762957573,\n",
       " -0.037998273968696594,\n",
       " -0.04114494100213051,\n",
       " -0.03691968321800232,\n",
       " -0.030193891376256943,\n",
       " 0.0016366778872907162,\n",
       " 0.010919208638370037,\n",
       " 0.016958199441432953,\n",
       " 0.011779491789638996,\n",
       " -0.0021703431848436594,\n",
       " 0.03100774995982647,\n",
       " -0.049645353108644485,\n",
       " -0.09239251166582108,\n",
       " -0.0035851499997079372,\n",
       " 0.022730961441993713,\n",
       " 0.004428500309586525,\n",
       " 0.006540557835251093,\n",
       " 0.04248480498790741,\n",
       " 0.04749404639005661,\n",
       " -0.05166907235980034,\n",
       " -0.007712929975241423,\n",
       " -0.0978858470916748,\n",
       " 0.0006538039306178689,\n",
       " 0.03265545517206192,\n",
       " 0.0894213542342186,\n",
       " 0.10109683126211166,\n",
       " 0.007873356342315674,\n",
       " -0.028354130685329437,\n",
       " -0.04083191230893135,\n",
       " -0.04327665641903877,\n",
       " 0.0022069106344133615,\n",
       " -0.0014697874430567026,\n",
       " 0.11648059636354446,\n",
       " -0.011961438693106174,\n",
       " -0.08519778400659561,\n",
       " -0.0228419229388237,\n",
       " 0.02722502499818802,\n",
       " -0.019782885909080505,\n",
       " 0.0252660121768713,\n",
       " -0.05516007915139198,\n",
       " -0.016125096008181572,\n",
       " -0.020419109612703323,\n",
       " -0.019877741113305092,\n",
       " -0.006331687327474356,\n",
       " 0.07713295519351959,\n",
       " 0.05907512828707695,\n",
       " 0.05646965280175209,\n",
       " 0.023480145260691643,\n",
       " -0.005631725303828716,\n",
       " 0.03624159097671509,\n",
       " 0.1026165708899498,\n",
       " -0.06620287150144577,\n",
       " -0.05187850445508957,\n",
       " -0.0321149006485939,\n",
       " 0.1777622252702713,\n",
       " 0.0440276674926281,\n",
       " 0.05809977278113365,\n",
       " -0.01968812569975853,\n",
       " 0.042105019092559814,\n",
       " 0.015243508853018284,\n",
       " 0.018056923523545265,\n",
       " 0.07634983956813812,\n",
       " -0.06042507663369179,\n",
       " 0.05848495662212372,\n",
       " 0.05837104842066765,\n",
       " 0.008503822609782219,\n",
       " 0.05558594688773155,\n",
       " -0.027052918449044228,\n",
       " -6.578413158035013e-33,\n",
       " 0.0871557965874672,\n",
       " -0.05188480019569397,\n",
       " 0.009093969129025936,\n",
       " -0.026807038113474846,\n",
       " -0.0015605802182108164,\n",
       " -0.005281780380755663,\n",
       " 0.02342042326927185,\n",
       " 0.09894543886184692,\n",
       " 0.008290153928101063,\n",
       " -0.008450649678707123,\n",
       " 0.06434547901153564,\n",
       " -0.012307532131671906,\n",
       " 0.0013394952984526753,\n",
       " -0.016499316319823265,\n",
       " 0.025595219805836678,\n",
       " 0.07801858335733414,\n",
       " -0.018634023144841194,\n",
       " 0.08813092857599258,\n",
       " -0.06300979852676392,\n",
       " -0.07265504449605942,\n",
       " -0.05430135875940323,\n",
       " 0.1141851395368576,\n",
       " -0.005377945955842733,\n",
       " 0.0009147410746663809,\n",
       " -0.06010029464960098,\n",
       " 0.010503597557544708,\n",
       " -0.02066808193922043,\n",
       " -0.09848258644342422,\n",
       " -0.02750256285071373,\n",
       " 0.07427296042442322,\n",
       " 0.07874235510826111,\n",
       " -0.045864734798669815,\n",
       " -0.06982475519180298,\n",
       " -0.034426458179950714,\n",
       " 0.003440192900598049,\n",
       " -0.04503164067864418,\n",
       " 0.012075659818947315,\n",
       " -0.09291764348745346,\n",
       " -0.039323367178440094,\n",
       " 0.15822593867778778,\n",
       " 0.08075026422739029,\n",
       " -0.006164029706269503,\n",
       " -0.03901050612330437,\n",
       " -0.03682498261332512,\n",
       " 0.05741205811500549,\n",
       " 0.03185129538178444,\n",
       " -0.05229896306991577,\n",
       " 0.02714596502482891,\n",
       " -0.0759524255990982,\n",
       " -0.015104900114238262,\n",
       " 0.038311660289764404,\n",
       " -0.02600758709013462,\n",
       " 0.05838998407125473,\n",
       " -0.09983984380960464,\n",
       " 0.09295810014009476,\n",
       " 0.015861645340919495,\n",
       " 0.028792059049010277,\n",
       " -0.02814231812953949,\n",
       " 0.052389949560165405,\n",
       " 0.04438792169094086,\n",
       " 0.02968834713101387,\n",
       " -0.008826094679534435,\n",
       " 0.01042226143181324,\n",
       " 0.06584012508392334,\n",
       " -0.04125041514635086,\n",
       " 0.06034902110695839,\n",
       " 0.08652275055646896,\n",
       " -0.020453184843063354,\n",
       " 0.0516732856631279,\n",
       " 0.0019174703629687428,\n",
       " -0.026766369119286537,\n",
       " 0.005714768078178167,\n",
       " -0.06886567920446396,\n",
       " 0.03961419314146042,\n",
       " 0.0004574900958687067,\n",
       " -0.015355289913713932,\n",
       " 0.006788020487874746,\n",
       " -0.015865415334701538,\n",
       " -0.01708294451236725,\n",
       " 0.09633371233940125,\n",
       " -0.002512529259547591,\n",
       " -0.09835656732320786,\n",
       " -0.03295920044183731,\n",
       " -0.0008620197186246514,\n",
       " 0.07509668916463852,\n",
       " 0.04729466140270233,\n",
       " -0.00043407236807979643,\n",
       " -0.025619523599743843,\n",
       " -0.05902702361345291,\n",
       " -0.07046442478895187,\n",
       " -0.03649420663714409,\n",
       " -0.011998086236417294,\n",
       " -0.06578239798545837,\n",
       " 0.060471806675195694,\n",
       " 0.024597788229584694,\n",
       " -5.547165216057692e-08,\n",
       " 0.06348168104887009,\n",
       " -0.09781795740127563,\n",
       " 0.02071119099855423,\n",
       " -0.06805174797773361,\n",
       " -0.043185845017433167,\n",
       " 0.039977483451366425,\n",
       " 0.08866006135940552,\n",
       " 0.07730225473642349,\n",
       " 0.012285430915653706,\n",
       " 0.007713113445788622,\n",
       " -0.05326579511165619,\n",
       " 0.074427530169487,\n",
       " -0.02268853597342968,\n",
       " 0.056224554777145386,\n",
       " -0.012265869416296482,\n",
       " 0.020678387954831123,\n",
       " 0.03957650810480118,\n",
       " 0.03371965140104294,\n",
       " -0.019569970667362213,\n",
       " -0.10758533328771591,\n",
       " 0.002785269869491458,\n",
       " -0.0730278417468071,\n",
       " -0.006752123590558767,\n",
       " -0.01829744689166546,\n",
       " 0.07602646946907043,\n",
       " -0.04091859608888626,\n",
       " 0.0022708000615239143,\n",
       " 0.05883101373910904,\n",
       " -0.016780640929937363,\n",
       " 0.05977894365787506,\n",
       " 0.04719984531402588,\n",
       " -0.07189790159463882,\n",
       " -0.007200418505817652,\n",
       " 0.01612788997590542,\n",
       " 0.014606434851884842,\n",
       " -0.004973547998815775,\n",
       " 0.08834660053253174,\n",
       " -0.024788277223706245,\n",
       " 0.06571299582719803,\n",
       " 0.09766136109828949,\n",
       " -0.020085187628865242,\n",
       " -0.061517324298620224,\n",
       " -0.019194718450307846,\n",
       " -0.005937058012932539,\n",
       " -0.050756245851516724,\n",
       " -0.054817236959934235,\n",
       " -0.02056417614221573,\n",
       " -0.019487254321575165,\n",
       " -0.02123025245964527,\n",
       " -0.029177283868193626,\n",
       " -0.01742965169250965,\n",
       " -0.04596763476729393,\n",
       " 0.0185749139636755,\n",
       " 0.06410598009824753,\n",
       " -0.0748860314488411,\n",
       " 0.006703914608806372,\n",
       " 0.019397666677832603,\n",
       " 0.012820861302316189,\n",
       " 0.018840817734599113,\n",
       " -0.1049577072262764,\n",
       " 0.02702777460217476,\n",
       " 0.046576060354709625,\n",
       " 0.011406862176954746,\n",
       " 0.06495009362697601]"
      ]
     },
     "execution_count": 27,
     "metadata": {},
     "output_type": "execute_result"
    }
   ],
   "source": [
    "from langchain.embeddings import HuggingFaceEmbeddings\n",
    "embedding_function = HuggingFaceEmbeddings(model_name=\"all-MiniLM-L6-v2\")\n",
    "documents_embeddings=embedding_function.embed_documents([split.page_content for split in splits])\n",
    "documents_embeddings[0]\n",
    "\n"
   ]
  },
  {
   "cell_type": "code",
   "execution_count": 28,
   "metadata": {},
   "outputs": [
    {
     "name": "stderr",
     "output_type": "stream",
     "text": [
      "C:\\Users\\Vidhi\\AppData\\Local\\Temp\\ipykernel_17072\\43092270.py:2: LangChainDeprecationWarning: Default values for HuggingFaceEmbeddings.model_name were deprecated in LangChain 0.2.16 and will be removed in 0.4.0. Explicitly pass a model_name to the HuggingFaceEmbeddings constructor instead.\n",
      "  embedding_function=HuggingFaceEmbeddings()\n"
     ]
    },
    {
     "name": "stdout",
     "output_type": "stream",
     "text": [
      "Vector store created and persisted to './chroma_db'\n"
     ]
    }
   ],
   "source": [
    "from langchain.vectorstores import Chroma\n",
    "embedding_function=HuggingFaceEmbeddings()\n",
    "collection_name=\"my_collection\"\n",
    "vectorstore=Chroma.from_documents(collection_name=collection_name,documents=splits,embedding=embedding_function,persist_directory=\"./chroma_db\")\n",
    "print(\"Vector store created and persisted to './chroma_db'\")\n"
   ]
  },
  {
   "cell_type": "code",
   "execution_count": 29,
   "metadata": {},
   "outputs": [
    {
     "name": "stdout",
     "output_type": "stream",
     "text": [
      "\n",
      " Top 2 most relevent chunks for the query: 'Name the pattern of skin diseases \n",
      "\n",
      "Result 1:\n",
      "Source: ./documents\\Ayurvedic Dermatology Therapeutic Strategies.pdf\n",
      "Content: manifestation and/or aggravation of many dermatological diseases), etc. \n",
      "The incidence of skin diseases is increasing due to the following factors: \n",
      "⮚  Unappropriate daily diet and lifestyle; Eating intolerable and unhealthy foods; Eating before the \n",
      "previous meal has been digested; take milk with meat, fish (aquatic animals); bathe immediately after \n",
      "sunbathing or after physical activity), etc.\n",
      "\n",
      "Result 2:\n",
      "Source: ./documents\\Ayurvedic Dermatology Therapeutic Strategies.pdf\n",
      "Content: a wide spectrum of etiological factors of dermatological diseases.  Etiological factors include physical, \n",
      "physiological, hereditary, psychological, psychosocial and papkarma factors (sinful \n",
      "activities/psychosocial stress and related psychological factors are mainly responsible for the \n",
      "manifestation and/or aggravation of many dermatological diseases), etc. \n",
      "The incidence of skin diseases is increasing due to the following factors:\n",
      "\n"
     ]
    }
   ],
   "source": [
    "#perform similarity search \n",
    "query=\"Name the pattern of skin diseases\"\n",
    "search_results=vectorstore.similarity_search(query,k=2)\n",
    "print(f\"\\n Top 2 most relevent chunks for the query: '{query} \\n\")\n",
    "for i, result in enumerate(search_results, 1):\n",
    "    print(f\"Result {i}:\")\n",
    "    print(f\"Source: {result.metadata.get('source', 'Unknown')}\")\n",
    "    print(f\"Content: {result.page_content}\")\n",
    "    print()"
   ]
  },
  {
   "cell_type": "code",
   "execution_count": 30,
   "metadata": {},
   "outputs": [
    {
     "name": "stdout",
     "output_type": "stream",
     "text": [
      "[Document(metadata={'page': 0, 'page_label': '1', 'source': './documents\\\\Ayurvedic Dermatology Therapeutic Strategies.pdf'}, page_content='manifestation and/or aggravation of many dermatological diseases), etc. \\nThe incidence of skin diseases is increasing due to the following factors: \\n⮚  Unappropriate daily diet and lifestyle; Eating intolerable and unhealthy foods; Eating before the \\nprevious meal has been digested; take milk with meat, fish (aquatic animals); bathe immediately after \\nsunbathing or after physical activity), etc.'), Document(metadata={'page': 0, 'page_label': '1', 'source': './documents\\\\Ayurvedic Dermatology Therapeutic Strategies.pdf'}, page_content='a wide spectrum of etiological factors of dermatological diseases.  Etiological factors include physical, \\nphysiological, hereditary, psychological, psychosocial and papkarma factors (sinful \\nactivities/psychosocial stress and related psychological factors are mainly responsible for the \\nmanifestation and/or aggravation of many dermatological diseases), etc. \\nThe incidence of skin diseases is increasing due to the following factors:')]\n"
     ]
    }
   ],
   "source": [
    "retriever = vectorstore.as_retriever(search_kwargs={\"k\": 2})\n",
    "retriever_results = retriever.invoke(\"Name the pattern of skin diseases\")\n",
    "print(retriever_results)"
   ]
  },
  {
   "cell_type": "code",
   "execution_count": 31,
   "metadata": {},
   "outputs": [],
   "source": [
    "from langchain_core.prompts import ChatPromptTemplate\n",
    "template = \"\"\"Answer the question based only on the following context:\n",
    "{context}\n",
    "Question: {question}\n",
    "Answer: \"\"\"\n",
    "\n",
    "prompt = ChatPromptTemplate.from_template(template)\n"
   ]
  },
  {
   "cell_type": "code",
   "execution_count": 32,
   "metadata": {},
   "outputs": [],
   "source": [
    "from langchain.schema.runnable import RunnablePassthrough\n",
    "rag_chain=(\n",
    "    {\"context\":retriever, \"question\":RunnablePassthrough()} | prompt\n",
    ")\n",
    "#rag_chain.invoke(\"Name the pattern of skin diseases\")"
   ]
  },
  {
   "cell_type": "code",
   "execution_count": 33,
   "metadata": {},
   "outputs": [],
   "source": [
    "def docs2str(docs):\n",
    "    return \"\\n\\n\".join(doc.page_content for doc in docs)\n",
    "\n",
    "rag_chain=(\n",
    "    {\"context\":retriever | docs2str, \"question\":RunnablePassthrough()} | prompt\n",
    ")\n",
    "#rag_chain.invoke(\"Name the pattern of skin diseases\")\n",
    "\n"
   ]
  },
  {
   "cell_type": "code",
   "execution_count": 36,
   "metadata": {},
   "outputs": [
    {
     "name": "stdout",
     "output_type": "stream",
     "text": [
      "According to the context, the pattern of skin diseases mentioned is:\n",
      "\n",
      "\"many dermatological diseases\"\n",
      "\n",
      "This does not specify a particular type or group of skin diseases, but rather implies that there are various types of skin diseases that can be caused by the listed factors.\n"
     ]
    }
   ],
   "source": [
    "rag_chain = (\n",
    "    {\"context\": retriever | docs2str, \"question\": RunnablePassthrough()}\n",
    "    | prompt\n",
    "    | llm\n",
    "    | StrOutputParser()\n",
    ")\n",
    "question=\"Name the pattern of skin diseases\"\n",
    "response=rag_chain.invoke(question)\n",
    "print(response)"
   ]
  },
  {
   "cell_type": "code",
   "execution_count": 37,
   "metadata": {},
   "outputs": [],
   "source": [
    "#chat history\n",
    "from langchain_core.messages import  HumanMessage,AIMessage\n",
    "chat_history=[]\n",
    "chat_history.extend([\n",
    "    HumanMessage(content=question),\n",
    "    AIMessage(content=response)\n",
    "])"
   ]
  },
  {
   "cell_type": "code",
   "execution_count": 38,
   "metadata": {},
   "outputs": [
    {
     "data": {
      "text/plain": [
       "[HumanMessage(content='Name the pattern of skin diseases', additional_kwargs={}, response_metadata={}),\n",
       " AIMessage(content='According to the context, the pattern of skin diseases mentioned is:\\n\\n\"many dermatological diseases\"\\n\\nThis does not specify a particular type or group of skin diseases, but rather implies that there are various types of skin diseases that can be caused by the listed factors.', additional_kwargs={}, response_metadata={})]"
      ]
     },
     "execution_count": 38,
     "metadata": {},
     "output_type": "execute_result"
    }
   ],
   "source": [
    "chat_history\n"
   ]
  },
  {
   "cell_type": "code",
   "execution_count": 39,
   "metadata": {},
   "outputs": [
    {
     "name": "stdout",
     "output_type": "stream",
     "text": [
      "AI Reformulation:\n",
      "Explain one of the many dermatological diseases.\n",
      "\n",
      "(Note: The original question already implies that there is a list of skin diseases, so no additional context is needed to understand this standalone question.)\n"
     ]
    }
   ],
   "source": [
    "from langchain_core.prompts import MessagesPlaceholder\n",
    "contextualize_q_system_prompt = \"\"\"\n",
    "Given a chat history and the latest user question\n",
    "which might reference context in the chat history,\n",
    "formulate a standalone question which can be understood\n",
    "without the chat history. Do NOT answer the question,\n",
    "just reformulate it if needed and otherwise return it as is.\n",
    "\"\"\"\n",
    "contextualize_q_prompt = ChatPromptTemplate.from_messages(\n",
    "    [\n",
    "        (\"system\", contextualize_q_system_prompt),\n",
    "        MessagesPlaceholder(\"chat_history\"),\n",
    "        (\"human\", \"{input}\"),\n",
    "    ]\n",
    ")\n",
    "contextualize_chain = contextualize_q_prompt | llm | StrOutputParser()\n",
    "print(contextualize_chain.invoke({\"input\": \"Explain one of them\", \"chat_history\": chat_history}))"
   ]
  },
  {
   "cell_type": "code",
   "execution_count": 40,
   "metadata": {},
   "outputs": [
    {
     "data": {
      "text/plain": [
       "[Document(metadata={'page': 1, 'page_label': '708', 'source': './documents\\\\skin diseases.pdf'}, page_content='the members of two rural communities claimed to have a skin\\ndisease (Figueroa and others 1998), but when they were exam-\\nined, 67 percent of those who denied having skin problems\\nwere found to have treatable skin conditions, most of which\\nwere infections. However, prevalence alone does not equate\\nwith disease burden. For instance, most communities recognize\\nscabies as a problem because of its intractable itching and sec-\\nondary infection, whereas they may ignore tinea capitis, which'),\n",
       " Document(metadata={'page': 0, 'page_label': '1', 'source': './documents\\\\Ayurvedic Dermatology Therapeutic Strategies.pdf'}, page_content='a wide spectrum of etiological factors of dermatological diseases.  Etiological factors include physical, \\nphysiological, hereditary, psychological, psychosocial and papkarma factors (sinful \\nactivities/psychosocial stress and related psychological factors are mainly responsible for the \\nmanifestation and/or aggravation of many dermatological diseases), etc. \\nThe incidence of skin diseases is increasing due to the following factors:')]"
      ]
     },
     "execution_count": 40,
     "metadata": {},
     "output_type": "execute_result"
    }
   ],
   "source": [
    "from langchain.chains import create_history_aware_retriever\n",
    "history_aware_retriever = create_history_aware_retriever(\n",
    "    llm, retriever, contextualize_q_prompt\n",
    ")\n",
    "history_aware_retriever.invoke({\"input\": \"Explain one of them\", \"chat_history\": chat_history})"
   ]
  },
  {
   "cell_type": "code",
   "execution_count": 41,
   "metadata": {},
   "outputs": [
    {
     "data": {
      "text/plain": [
       "{'input': 'Explain one of them',\n",
       " 'chat_history': [HumanMessage(content='Name the pattern of skin diseases', additional_kwargs={}, response_metadata={}),\n",
       "  AIMessage(content='According to the context, the pattern of skin diseases mentioned is:\\n\\n\"many dermatological diseases\"\\n\\nThis does not specify a particular type or group of skin diseases, but rather implies that there are various types of skin diseases that can be caused by the listed factors.', additional_kwargs={}, response_metadata={})],\n",
       " 'context': [Document(metadata={'page': 0, 'page_label': '707', 'source': './documents\\\\skin diseases.pdf'}, page_content='and war-related injuries. As noted later, those figures require\\nconfirmation by more detailed studies, and their practical\\napplication to health interventions needs to be tested.\\nAssessing the impact of skin disease on the quality of life in\\ncomparison with that of chronic nondermatological diseases is\\ndifficult; however, the study by Mallon and others (1999),\\nwhich was not carried out in a developing country, compares\\nthe common skin disease acne with chronic disorders such as'),\n",
       "  Document(metadata={'page': 1, 'page_label': '708', 'source': './documents\\\\skin diseases.pdf'}, page_content='the members of two rural communities claimed to have a skin\\ndisease (Figueroa and others 1998), but when they were exam-\\nined, 67 percent of those who denied having skin problems\\nwere found to have treatable skin conditions, most of which\\nwere infections. However, prevalence alone does not equate\\nwith disease burden. For instance, most communities recognize\\nscabies as a problem because of its intractable itching and sec-\\nondary infection, whereas they may ignore tinea capitis, which')],\n",
       " 'answer': 'Based on the provided context, I\\'d like to explain one of the mentioned skin diseases: \"scabies\".\\n\\nScabies is a common and highly contagious skin condition caused by the mite Sarcoptes scabiei. It\\'s characterized by intense itching, especially at night, due to the allergic reaction to the mite\\'s saliva and eggs. Scabies can lead to secondary infections if left untreated.\\n\\nThe context highlights that scabies is often recognized as a problem in communities because of its severe itching and potential for secondary infection, making it more noticeable than other skin conditions like tinea capitis (ringworm).'}"
      ]
     },
     "execution_count": 41,
     "metadata": {},
     "output_type": "execute_result"
    }
   ],
   "source": [
    "from langchain.chains.combine_documents import create_stuff_documents_chain\n",
    "from langchain.chains import create_retrieval_chain\n",
    "from langchain_core.prompts import ChatPromptTemplate\n",
    "from langchain_core.prompts import MessagesPlaceholder\n",
    "\n",
    "qa_prompt = ChatPromptTemplate.from_messages([\n",
    "    (\"system\", \"You are a helpful AI assistant. Use the following context to answer the user's question.\"),\n",
    "    (\"system\", \"Context: {context}\"),\n",
    "    MessagesPlaceholder(variable_name=\"chat_history\"),\n",
    "    (\"human\", \"{input}\")\n",
    "])\n",
    "\n",
    "question_answer_chain = create_stuff_documents_chain(llm, qa_prompt)\n",
    "rag_chain = create_retrieval_chain(history_aware_retriever, question_answer_chain)\n",
    "rag_chain.invoke({\"input\": \"Explain one of them\", \"chat_history\": chat_history})"
   ]
  },
  {
   "cell_type": "code",
   "execution_count": 42,
   "metadata": {},
   "outputs": [],
   "source": [
    "from pymongo import MongoClient\n",
    "DB_URI = \"mongodb://localhost:27017/\"  \n",
    "DB_NAME = \"rag_app\"\n",
    "def get_db_connection():\n",
    "    client = MongoClient(DB_URI)\n",
    "    db = client[DB_NAME]\n",
    "    return db\n",
    "\n",
    "\n",
    "def create_application_logs():\n",
    "    db = get_db_connection()\n",
    "    # MongoDB creates collections automatically when inserting the first document.\n",
    "    # Here we explicitly create an index for better query performance.\n",
    "    db.application_logs.create_index(\"session_id\")\n",
    "\n",
    "\n",
    "def insert_application_logs(session_id, user_query, gpt_response, model):\n",
    "    db = get_db_connection()\n",
    "    log_entry = {\n",
    "        \"session_id\": session_id,\n",
    "        \"user_query\": user_query,\n",
    "        \"gpt_response\": gpt_response,\n",
    "        \"model\": model,\n",
    "        \"created_at\": datetime.utcnow()\n",
    "    }\n",
    "    db.application_logs.insert_one(log_entry)\n",
    "\n",
    "\n",
    "def get_chat_history(session_id):\n",
    "    db = get_db_connection()\n",
    "    logs = db.application_logs.find({\"session_id\": session_id}).sort(\"created_at\", 1)\n",
    "    messages = []\n",
    "    for log in logs:\n",
    "        messages.extend([\n",
    "            {\"role\": \"human\", \"content\": log['user_query']},\n",
    "            {\"role\": \"ai\", \"content\": log['gpt_response']}\n",
    "        ])\n",
    "    return messages\n",
    "\n",
    "\n"
   ]
  },
  {
   "cell_type": "code",
   "execution_count": 43,
   "metadata": {},
   "outputs": [
    {
     "name": "stderr",
     "output_type": "stream",
     "text": [
      "C:\\Users\\Vidhi\\AppData\\Local\\Temp\\ipykernel_17072\\88342757.py:24: DeprecationWarning: datetime.datetime.utcnow() is deprecated and scheduled for removal in a future version. Use timezone-aware objects to represent datetimes in UTC: datetime.datetime.now(datetime.UTC).\n",
      "  \"created_at\": datetime.utcnow()\n"
     ]
    },
    {
     "name": "stdout",
     "output_type": "stream",
     "text": [
      "Human: Name the skin diseases\n",
      "AI: Based on the provided context, the following skin diseases were mentioned:\n",
      "\n",
      "1. Pyoderma\n",
      "2. Pediculosis\n",
      "3. Eczema or dermatitis\n",
      "4. HIV-related skin disease\n",
      "5. Pigmentary anomalies (including hypopigmentation, melasma, and dermatitis caused by cosmetic bleaching agents)\n",
      "6. Acne\n",
      "\n"
     ]
    },
    {
     "name": "stderr",
     "output_type": "stream",
     "text": [
      "C:\\Users\\Vidhi\\AppData\\Local\\Temp\\ipykernel_17072\\88342757.py:24: DeprecationWarning: datetime.datetime.utcnow() is deprecated and scheduled for removal in a future version. Use timezone-aware objects to represent datetimes in UTC: datetime.datetime.now(datetime.UTC).\n",
      "  \"created_at\": datetime.utcnow()\n"
     ]
    },
    {
     "name": "stdout",
     "output_type": "stream",
     "text": [
      "Human: Describe one in detail\n",
      "AI: Based on the provided context, I'll describe Eczema or Dermatitis in detail:\n",
      "\n",
      "Eczema or Dermatitis is a skin disease that can significantly impact an individual's quality of life. It is characterized by dry, itchy, and inflamed skin, which can lead to disfigurement, disability, and reduction in overall well-being.\n",
      "\n",
      "The symptoms of eczema or dermatitis include:\n",
      "\n",
      "* Dry, scaly, or flaky skin\n",
      "* Redness and inflammation\n",
      "* Intense itching, which can be severe enough to disrupt daily activities\n",
      "* Crusting and oozing, especially if the condition is left untreated\n",
      "\n",
      "Eczema or dermatitis can occur anywhere on the body, but it commonly affects areas such as the face, arms, legs, and torso. The disease can be caused by a combination of genetic, environmental, and lifestyle factors.\n",
      "\n",
      "In this context, eczema or dermatitis is mentioned alongside other skin diseases that pose significant morbidity and impact quality of life. It highlights the importance of screening for skin diseases in primary care settings to identify and manage conditions like eczema or dermatitis effectively.\n"
     ]
    }
   ],
   "source": [
    "import uuid\n",
    "from datetime import datetime\n",
    "# Example usage for a new user\n",
    "session_id = str(uuid.uuid4())\n",
    "question = \"Name the skin diseases\"\n",
    "chat_history = get_chat_history(session_id)  # Fetch chat history from MongoDB\n",
    "answer = rag_chain.invoke({\"input\": question, \"chat_history\": chat_history})['answer']\n",
    "\n",
    "# Insert the new interaction into MongoDB\n",
    "insert_application_logs(session_id, question, answer, \"llama3\")\n",
    "\n",
    "# Print the interaction\n",
    "print(f\"Human: {question}\")\n",
    "print(f\"AI: {answer}\\n\")\n",
    "\n",
    "# Example of a follow-up question\n",
    "question2 = \"Describe one in detail\"\n",
    "chat_history = get_chat_history(session_id)  # Fetch updated chat history\n",
    "answer2 = rag_chain.invoke({\"input\": question2, \"chat_history\": chat_history})['answer']\n",
    "\n",
    "# Insert the follow-up interaction into MongoDB\n",
    "insert_application_logs(session_id, question2, answer2, \"llama3\")\n",
    "\n",
    "# Print the interaction\n",
    "print(f\"Human: {question2}\")\n",
    "print(f\"AI: {answer2}\")\n"
   ]
  }
 ],
 "metadata": {
  "kernelspec": {
   "display_name": "env",
   "language": "python",
   "name": "python3"
  },
  "language_info": {
   "codemirror_mode": {
    "name": "ipython",
    "version": 3
   },
   "file_extension": ".py",
   "mimetype": "text/x-python",
   "name": "python",
   "nbconvert_exporter": "python",
   "pygments_lexer": "ipython3",
   "version": "3.12.5"
  }
 },
 "nbformat": 4,
 "nbformat_minor": 2
}
